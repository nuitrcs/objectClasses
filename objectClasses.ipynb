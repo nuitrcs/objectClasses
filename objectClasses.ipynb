{
 "cells": [
  {
   "cell_type": "markdown",
   "id": "9c4e33d7-1531-4ba3-aa9c-6384a7f82145",
   "metadata": {},
   "source": [
    "# Intro to creating your own object classes\n",
    "Just as you can define your own functions, you can define your own **object classes**. \n",
    "<br><br>You are already familiar with built-in Python object classes like **strings**, **integers**, **floats**, **lists**, and **dictionaries**, as well as object classes that are defined in Python modules that you import into your notebooks/scripts, like the **DataFrame** object in **pandas**.\n",
    "<br><br>Object classes have their own **methods** and **attributes** that are unique to only that object class."
   ]
  },
  {
   "cell_type": "markdown",
   "id": "c7f788bf-a9a7-41ee-9464-3f1929e4b13e",
   "metadata": {},
   "source": [
    "#### <br>Methods\n",
    "Methods are functions that are specific to one object class. They follow an object and have parentheses. Functions do something *to or with* the object.\n",
    "<br>The result of a function is calculted when the function gets called."
   ]
  },
  {
   "cell_type": "code",
   "execution_count": null,
   "id": "742fec6e-910f-48ab-b67a-f42e1a03a5b1",
   "metadata": {},
   "outputs": [],
   "source": [
    "my_string = \"Go 'Cats!\"\n",
    "my_string.replace(\"'\", \"Wild\")"
   ]
  },
  {
   "cell_type": "code",
   "execution_count": null,
   "id": "bb72befd-0f1a-487c-ae84-74eb64b09b2c",
   "metadata": {},
   "outputs": [],
   "source": [
    "my_string.replace(\"'\", \"Wild\").lower().title()"
   ]
  },
  {
   "cell_type": "code",
   "execution_count": null,
   "id": "14e2d4c8-0109-4627-9ce1-c32c6299e0cf",
   "metadata": {},
   "outputs": [],
   "source": [
    "my_list = [\"Northwestern\", \"Michigan\", \"Michigan State\", \"Ohio State\", \"Indiana\"]\n",
    "my_list.sort()\n",
    "print(my_list)"
   ]
  },
  {
   "cell_type": "markdown",
   "id": "24bb6154-7fdf-411c-baab-542badc50364",
   "metadata": {},
   "source": [
    "#### <br>Attributes\n",
    "Attributes store data about our objects. They do not include parentheses.\n",
    "<br>Let's look a some attributes that are unique to a pandas DataFrame."
   ]
  },
  {
   "cell_type": "code",
   "execution_count": null,
   "id": "d43513e3-4c2b-4781-adfe-24127fd31547",
   "metadata": {},
   "outputs": [],
   "source": [
    "import pandas as pd\n",
    "\n",
    "df = pd.DataFrame(data=[{'A': 10, 'B': 20, 'C':30}, {'x':100, 'y': 200, 'z': 300}])\n",
    "df"
   ]
  },
  {
   "cell_type": "code",
   "execution_count": null,
   "id": "0e2e091b-ad56-4742-bf0f-5780fdf7972c",
   "metadata": {},
   "outputs": [],
   "source": [
    "df.size"
   ]
  },
  {
   "cell_type": "code",
   "execution_count": null,
   "id": "7be731fa-8c0c-40e8-8377-5543395ca4bd",
   "metadata": {},
   "outputs": [],
   "source": [
    "df.shape"
   ]
  },
  {
   "cell_type": "markdown",
   "id": "aba22f4c-ac6f-4add-bc53-d9d2d4e8fb25",
   "metadata": {},
   "source": [
    "## <br><br>Today's example for coding our own object classes\n",
    "You've heard of Fantasy Football and Fantasy Baseball, but we're going to work on a project I call **Fantasy Orchestra**.\n",
    "<br><br>The premise is that there are thousands of professional classical musicians in orchestras around the world. Each player in a Fantasy Orchestra league gets to draft these musicians onto their dream Fantasy Orchestra team. \n",
    "<br><br>For our code, we have two object classes that we need to create - `orchestra` that can contain the musicians we draft, and `musician`. "
   ]
  },
  {
   "cell_type": "markdown",
   "id": "14ff9812-e633-4e0d-b1e3-684eb25bfe71",
   "metadata": {},
   "source": [
    "### <br>Defining our first class\n",
    "Let's learn how to create our own object class. We'll start with `orchestra`. Let's start with the basics. \n",
    "\n",
    "<br>We start with a `class` statement. It is like the `def` statement we use to create our own function. For now, we won't define any attributes or methods for the `orchestra`. We have to put *something* in the class statement, so we'll just write `pass`."
   ]
  },
  {
   "cell_type": "code",
   "execution_count": null,
   "id": "b0c49d55-01fc-4b47-a3a7-fb94fbf08260",
   "metadata": {},
   "outputs": [],
   "source": [
    "class orchestra:\n",
    "    pass"
   ]
  },
  {
   "cell_type": "markdown",
   "id": "2778186c-f6e6-4618-bcc0-1a9bd85023aa",
   "metadata": {},
   "source": [
    "<br><br>Once we've created a class, we can create multiple **instances** (multiple **objects**) of class **orchestra**, the same way we can work with multiple strings or multiple lists in the same notebook. We just give them different **variable** names:"
   ]
  },
  {
   "cell_type": "code",
   "execution_count": null,
   "id": "d6de9b86-6c04-4fa9-b1c1-3f8fb0c9b5ab",
   "metadata": {},
   "outputs": [],
   "source": [
    "WoodWins = orchestra()"
   ]
  },
  {
   "cell_type": "code",
   "execution_count": null,
   "id": "8e84933b-4463-4d42-bf37-c3d604149c85",
   "metadata": {},
   "outputs": [],
   "source": [
    "print(WoodWins)"
   ]
  },
  {
   "cell_type": "code",
   "execution_count": null,
   "id": "f83a9b48-0bb3-4b98-bf44-d295c57da0cf",
   "metadata": {},
   "outputs": [],
   "source": [
    "WildcatSymphony = orchestra()"
   ]
  },
  {
   "cell_type": "code",
   "execution_count": null,
   "id": "7a4c2fd4-5e19-44a5-9feb-91088aecd19a",
   "metadata": {},
   "outputs": [],
   "source": [
    "WildcatSymphony"
   ]
  },
  {
   "cell_type": "markdown",
   "id": "664e0234-bca1-42cb-8b79-1ba9b43cbb87",
   "metadata": {},
   "source": [
    "<br>When we run or print the variable, it tells us it is an orchestra object.\n",
    "<br><br>We can get a list of any methods or attributes that exist for an object using the `dir()` function in Python."
   ]
  },
  {
   "cell_type": "code",
   "execution_count": null,
   "id": "cedae691-77ef-401c-9e7f-4a31dbf1bf95",
   "metadata": {},
   "outputs": [],
   "source": [
    "dir(WoodWins)"
   ]
  },
  {
   "cell_type": "markdown",
   "id": "bc889dcd-8001-4a19-b539-528e6698c5cc",
   "metadata": {},
   "source": [
    "<br>Whoa! We didn't create all that ourselves, but lots of stuff is happening behind the scenes when we create an object class."
   ]
  },
  {
   "cell_type": "markdown",
   "id": "f26df8cf-f900-4cc5-95ad-5e6d6c94f02c",
   "metadata": {},
   "source": [
    "#### <br><br>Exercise 1\n",
    "Create a new object class called `musician`. You can just include `pass` for the code."
   ]
  },
  {
   "cell_type": "code",
   "execution_count": null,
   "id": "1db75ae2-4883-4554-a09e-9d60fedf6ce9",
   "metadata": {},
   "outputs": [],
   "source": []
  },
  {
   "cell_type": "markdown",
   "id": "5b80a23e-d219-4087-89d6-bae3499fd97c",
   "metadata": {},
   "source": [
    "Now create an instance of `musician` called `YoYoMa` and then print it to confirm it worked."
   ]
  },
  {
   "cell_type": "code",
   "execution_count": null,
   "id": "2ed001a9-c166-4c4e-8a89-ede14d738c75",
   "metadata": {},
   "outputs": [],
   "source": []
  },
  {
   "cell_type": "code",
   "execution_count": null,
   "id": "cdf3d443-ed5b-48ef-b7f3-0b3bad34449f",
   "metadata": {},
   "outputs": [],
   "source": []
  },
  {
   "cell_type": "markdown",
   "id": "1440401f-a6bc-4a32-943e-a3a02a11e05d",
   "metadata": {},
   "source": [
    "### <br><br><br>Adding attributes\n",
    "When we define a new object class, we also define the **attributes** and **methods** that are specific to this class. To start, we'll add just one attribute: `conductor`.\n",
    "<br><br>To add attributes, we define an **initializer** method called `__init__` inside our class statement. The double underscores on each side make it a **dunder method**. Dunder methods are used behind the scenes in Python to define object classes. All Python objects have dunders, and now we're creating our own!\n",
    "<br><br>The `__init__` method definition takes one argument, which is traditionally called `self` to refer to the new object we just created. It allows us to refer to our new object inside our class statement as we create attributes and methods.\n",
    "<br><br>Inside the `__init__` method definition, we can create our attributes and their **default values**. Eventually, every fantasy orchestra will draft an actual conductor onto their team, but for now we will set the default conductor to \"open\" because the spot hasn't been drafted yet."
   ]
  },
  {
   "cell_type": "code",
   "execution_count": null,
   "id": "506a371a-bbfe-4945-a879-230622c1c677",
   "metadata": {},
   "outputs": [],
   "source": [
    "class orchestra:\n",
    "    def __init__(self):\n",
    "        self.conductor = \"open\""
   ]
  },
  {
   "cell_type": "code",
   "execution_count": null,
   "id": "7a1f10ad-45a3-45a1-a7bd-fc976d377107",
   "metadata": {},
   "outputs": [],
   "source": [
    "WoodWins = orchestra()"
   ]
  },
  {
   "cell_type": "code",
   "execution_count": null,
   "id": "110e094f-d688-4bb8-9e09-d67e84ddf15e",
   "metadata": {},
   "outputs": [],
   "source": [
    "print(WoodWins)"
   ]
  },
  {
   "cell_type": "markdown",
   "id": "bdbd5b38-2423-4f08-b22b-a8a37643ef95",
   "metadata": {},
   "source": [
    "<br><br>Now we can check out the conductor attribute to see if it worked."
   ]
  },
  {
   "cell_type": "code",
   "execution_count": null,
   "id": "0fdf7606-d4d7-451d-b4f9-f42a9c1b99de",
   "metadata": {},
   "outputs": [],
   "source": [
    "WoodWins.conductor"
   ]
  },
  {
   "cell_type": "markdown",
   "id": "d2d4be22-b9d3-4407-a7ae-6be0e0d6ee80",
   "metadata": {},
   "source": [
    "<br><br>Let's try the `dir()` function now:"
   ]
  },
  {
   "cell_type": "code",
   "execution_count": null,
   "id": "e4f77bc0-6dc5-445b-b427-5d72893f7b38",
   "metadata": {},
   "outputs": [],
   "source": [
    "dir(WoodWins)"
   ]
  },
  {
   "cell_type": "markdown",
   "id": "67e88909-c855-4a17-aff1-d94672978c23",
   "metadata": {},
   "source": [
    "<br>There's our attribute at the bottom!"
   ]
  },
  {
   "cell_type": "markdown",
   "id": "f4dfb35f-80d3-44d0-98b4-3ed4cc435649",
   "metadata": {},
   "source": [
    "#### <br><br>Exercise 2.\n",
    "Create an object class called `musician` that has two attributes, `name` and `instrument`. For now, just give it some placeholder string like \"open\" as the default values."
   ]
  },
  {
   "cell_type": "code",
   "execution_count": null,
   "id": "5e486a95-32d7-4409-90ad-95a8d875dc68",
   "metadata": {},
   "outputs": [],
   "source": []
  },
  {
   "cell_type": "markdown",
   "id": "2bd0decf-d3e7-4ab2-bc76-91b318d5c3a6",
   "metadata": {},
   "source": [
    "Create a variable called `YoYoMa` that contains a `musician` object."
   ]
  },
  {
   "cell_type": "code",
   "execution_count": null,
   "id": "4fd23b3a-4495-4a16-bf12-c4ae30bfc1ad",
   "metadata": {},
   "outputs": [],
   "source": []
  },
  {
   "cell_type": "markdown",
   "id": "a6dd3d7e-04f2-44c1-ac5d-2770b71f28c1",
   "metadata": {},
   "source": [
    "Write code to return the `instrument` attribute for `YoYoMa`."
   ]
  },
  {
   "cell_type": "code",
   "execution_count": null,
   "id": "90b3e29b-a657-4722-a553-5dca8530c921",
   "metadata": {},
   "outputs": [],
   "source": []
  },
  {
   "cell_type": "markdown",
   "id": "a8d887f9-4912-4d4e-88c1-1bd61bba5653",
   "metadata": {},
   "source": [
    "### <br><br><br>Assigning values to the attributes\n",
    "In our `musician` class, we don't need to leave the attributes \"open\". Instead, we want to get the `name` and `instrument` when we create each object instance.\n",
    "<br><br>In our `__init__` method definition, we can ask the user to provide arguments in addition to `self`. `self` always goes first."
   ]
  },
  {
   "cell_type": "code",
   "execution_count": null,
   "id": "cf5ac31c-6d95-41e0-be3e-dc91b562dea5",
   "metadata": {},
   "outputs": [],
   "source": [
    "class musician:\n",
    "    def __init__(self, name, instrument):\n",
    "        self.name = name\n",
    "        self.instrument = instrument"
   ]
  },
  {
   "cell_type": "markdown",
   "id": "a0604912-d201-44e5-8467-ae844314ce8d",
   "metadata": {},
   "source": [
    "<br>Now when we created an instance of the object class, we pass it two arguments that the class will use exactly how we coded it to:"
   ]
  },
  {
   "cell_type": "code",
   "execution_count": null,
   "id": "776b8b8b-7229-4327-b29a-5aa953fd6453",
   "metadata": {},
   "outputs": [],
   "source": [
    "YoYoMa = musician(\"Yo-Yo Ma\", \"cello\")"
   ]
  },
  {
   "cell_type": "code",
   "execution_count": null,
   "id": "c6ec43f0-70f6-44db-b217-95ad975efb3e",
   "metadata": {},
   "outputs": [],
   "source": [
    "YoYoMa.instrument"
   ]
  },
  {
   "cell_type": "code",
   "execution_count": null,
   "id": "b41b6911-037e-4b96-8d47-f5db2b5d26c8",
   "metadata": {},
   "outputs": [],
   "source": [
    "YoYoMa.name"
   ]
  },
  {
   "cell_type": "markdown",
   "id": "748f5bd9-69ae-410c-90c7-2f5c81998172",
   "metadata": {},
   "source": [
    "#### <br><br>Exercise 3.\n",
    "When we define our attributes, we can add more code than just the argument that we ask users to provide when they create the object. Let's say someone enters \"Cello\" for Yo-Yo Ma's instrument instead of \"cello\". Change the code below to change all instruments to lower case:"
   ]
  },
  {
   "cell_type": "code",
   "execution_count": null,
   "id": "8b687ec9-0839-414d-b134-1a8cf2a81a1d",
   "metadata": {},
   "outputs": [],
   "source": [
    "class musician:\n",
    "    def __init__(self, name, instrument):\n",
    "        self.name = name\n",
    "        self.instrument = instrument"
   ]
  },
  {
   "cell_type": "markdown",
   "id": "2116f7e5-52ea-41cc-ae65-3643930f424c",
   "metadata": {},
   "source": [
    "<br>Now run the code below to check your work:"
   ]
  },
  {
   "cell_type": "code",
   "execution_count": null,
   "id": "23ceba24-647f-4ab5-92f5-09ef22a1b142",
   "metadata": {},
   "outputs": [],
   "source": [
    "YoYoMa = musician(\"Yo-Yo Ma\", \"Cello\")\n",
    "print(YoYoMa.instrument)"
   ]
  },
  {
   "cell_type": "markdown",
   "id": "e6df7a1f-e17b-429b-8772-1329bc761206",
   "metadata": {},
   "source": [
    "### <br><br><br>Adding more complicated attributes\n",
    "For our Fantasy Orchestra League, we might draft teams by section of the orchestra, instead of by individual instrument. For example, maybe each team gets to draft 7 strings, 4 woodwinds, 4 brass, 3 keyboards, 3 percussion, and 1 conductor. To do that, we have to know which section a musician plays in.\n",
    "<br><br>Inside our def statement, we can create a dictionary, and then we'll write some more complicated code to define a new attribute called `section`."
   ]
  },
  {
   "cell_type": "code",
   "execution_count": null,
   "id": "8393f198-4b5f-4a67-9480-a917850b16c7",
   "metadata": {},
   "outputs": [],
   "source": [
    "class musician:\n",
    "                    \n",
    "    def __init__(self, name, instrument):\n",
    "        self.name = name\n",
    "        self.instrument = instrument\n",
    "        \n",
    "        section_dict = {\"strings\": [\"viola\", \"violin\", \"cello\", \"double bass\", \"harp\", \"guitar\"],\n",
    "                        \"brass\": [\"horn\", \"trumpet\", \"trombone\", \"tuba\"],\n",
    "                        \"woodwinds\": [\"oboe\", \"clarinet\", \"flute\", \"bassoon\", \"saxophone\"],\n",
    "                        \"percussion\": [\"percussion\", \"drum kit\"],\n",
    "                        \"keyboards\": [\"piano\", \"organ\", \"harpsichord\", \"accordian\", \"celesta\"],\n",
    "                        \"conductor\": [\"conductor\"]}\n",
    "        \n",
    "        for k,v in section_dict.items():\n",
    "            if instrument in v:\n",
    "                self.section = k\n"
   ]
  },
  {
   "cell_type": "code",
   "execution_count": null,
   "id": "6db3a345-50d9-4d34-bbd6-9b3a4454277e",
   "metadata": {},
   "outputs": [],
   "source": [
    "YoYoMa = musician(\"Yo-Yo Ma\", \"cello\")\n",
    "print(YoYoMa.section)"
   ]
  },
  {
   "cell_type": "markdown",
   "id": "0aa61da5-b1a9-430e-a481-c32fd0134dc8",
   "metadata": {},
   "source": [
    "### <br><br><br>Defining method functions for our object classes\n",
    "Based on what we talked about above (drafting musicians by section instead of individual instrument), I can update our `orchestra` class:"
   ]
  },
  {
   "cell_type": "code",
   "execution_count": null,
   "id": "f7282c13-6378-41b7-b5dc-8291ff010562",
   "metadata": {},
   "outputs": [],
   "source": [
    "class orchestra:\n",
    "    def __init__(self):\n",
    "        self.conductor = \"open\"\n",
    "        self.strings = [\"open\"]*7\n",
    "        self.brass = [\"open\"]*4\n",
    "        self.woodwinds = [\"open\"]*4\n",
    "        self.percussion = [\"open\"]*3\n",
    "        self.keyboards = [\"open\"]*3"
   ]
  },
  {
   "cell_type": "code",
   "execution_count": null,
   "id": "673df648-a323-4b7f-aef5-2a3f78fe0f0d",
   "metadata": {},
   "outputs": [],
   "source": [
    "WoodWins = orchestra()"
   ]
  },
  {
   "cell_type": "code",
   "execution_count": null,
   "id": "12e8b41e-b245-4774-8543-956f6ec64354",
   "metadata": {},
   "outputs": [],
   "source": [
    "WoodWins.strings"
   ]
  },
  {
   "cell_type": "markdown",
   "id": "c8afafa5-d9c8-43c5-a93f-10adb71da160",
   "metadata": {},
   "source": [
    "<br><br>Now, let's write a method function called `draft` that will let us fill those spots! We simply add a new function definition inside our class statement.\n",
    "\n",
    "<be><br>The function takes two arguments - `self` and a musician. Once it knows which musician we are drafting, we will need to write code to add the musician to the correct section of our fantasy orchestra. I've had to write a fancy bit of code here to replace the first instance of \"open\" in the correct section list with the new draft pick. That way I won't overwrite any previously drafted members."
   ]
  },
  {
   "cell_type": "code",
   "execution_count": null,
   "id": "693b4b87-e49e-4e2a-8ec4-3f297fdfaa6f",
   "metadata": {},
   "outputs": [],
   "source": [
    "class orchestra:\n",
    "    def __init__(self):\n",
    "        self.conductor = \"open\"\n",
    "        self.strings = [\"open\"]*7\n",
    "        self.brass = [\"open\"]*4\n",
    "        self.woodwinds = [\"open\"]*4\n",
    "        self.percussion = [\"open\"]*3\n",
    "        self.keyboards = [\"open\"]*3\n",
    "    \n",
    "    def draft(self, musician):\n",
    "        section = musician.section\n",
    "        original = getattr(self, section)\n",
    "        pos = original.index(\"open\")\n",
    "        original[pos] = musician\n",
    "        setattr(self, section, original)\n",
    "        # Nice sentence letting you know the draft went through:\n",
    "        print(f\"You have drafted {musician.name} into your {section} section.\")\n",
    "        \n",
    "        "
   ]
  },
  {
   "cell_type": "markdown",
   "id": "4d8d1454-fd85-481a-8cef-d77099f14217",
   "metadata": {},
   "source": [
    "<br>Let's test it out. First we'll create our orchestra (because we've changed the class since the last time we assigned our team name)."
   ]
  },
  {
   "cell_type": "code",
   "execution_count": null,
   "id": "2a1e3bfe-8e20-44a1-a8af-977247551c47",
   "metadata": {},
   "outputs": [],
   "source": [
    "WoodWins = orchestra()"
   ]
  },
  {
   "cell_type": "markdown",
   "id": "64a14c23-c833-4dab-9a9b-90e2009e7b19",
   "metadata": {},
   "source": [
    "<br>Now we'll draft `YoYoMa`."
   ]
  },
  {
   "cell_type": "code",
   "execution_count": null,
   "id": "63316128-8d91-478d-96dd-f64afb61cdf5",
   "metadata": {},
   "outputs": [],
   "source": [
    "WoodWins.draft(YoYoMa)"
   ]
  },
  {
   "cell_type": "markdown",
   "id": "13730643-ce5b-4579-b612-96bb65468a75",
   "metadata": {},
   "source": [
    "<br>Now we can check out our strings section:"
   ]
  },
  {
   "cell_type": "code",
   "execution_count": null,
   "id": "20610929-a19b-46a9-a074-f05a4e383e50",
   "metadata": {},
   "outputs": [],
   "source": [
    "WoodWins.strings"
   ]
  },
  {
   "cell_type": "markdown",
   "id": "1aab7731-f79f-4e59-b2d9-a0d3066fe1dc",
   "metadata": {},
   "source": [
    "<br>Notice that we added the YoYoMa `musician` *object* to our `strings` attribute in our WoodWins orchestra, not the musician's *name*."
   ]
  },
  {
   "cell_type": "markdown",
   "id": "265d79dc-6bca-46bf-b82a-f13f675308b1",
   "metadata": {},
   "source": [
    "#### <br><br>Exercise 4.\n",
    "Rewrite my code (pasted for you below) so that the musician's name gets added when a musician is drafted, instead of the `musician` object."
   ]
  },
  {
   "cell_type": "code",
   "execution_count": null,
   "id": "360677a8-40b1-4547-9001-a453031ab898",
   "metadata": {},
   "outputs": [],
   "source": [
    "class orchestra:\n",
    "    def __init__(self):\n",
    "        self.conductor = \"open\"\n",
    "        self.strings = [\"open\"]*7\n",
    "        self.brass = [\"open\"]*4\n",
    "        self.woodwinds = [\"open\"]*4\n",
    "        self.percussion = [\"open\"]*3\n",
    "        self.keyboards = [\"open\"]*3\n",
    "    \n",
    "    def draft(self, musician):\n",
    "        section = musician.section\n",
    "        original = getattr(self, section)\n",
    "        pos = original.index(\"open\")\n",
    "        original[pos] = musician\n",
    "        setattr(self, section, original)\n",
    "        print(f\"You have drafted {musician.name} into your {section} section.\")"
   ]
  },
  {
   "cell_type": "markdown",
   "id": "78d9c796-6e31-477f-83d6-88a1f81e6296",
   "metadata": {},
   "source": [
    "<br>Run this code below to check if it worked."
   ]
  },
  {
   "cell_type": "code",
   "execution_count": null,
   "id": "0d60d09f-ef3a-440b-aa58-11cbb7370d20",
   "metadata": {},
   "outputs": [],
   "source": [
    "WoodWins = orchestra()\n",
    "WoodWins.draft(YoYoMa)\n",
    "print(WoodWins.strings)"
   ]
  },
  {
   "cell_type": "markdown",
   "id": "f3e80c08-9b04-4670-ac98-81f60ca873c2",
   "metadata": {},
   "source": [
    "### <br><br>Object Oriented Programming\n",
    "Now that you know the basics for creating your own objects, you might be thinking about how you can apply it to your own code. Setting up object classes and their rules first, and then having them interact, is a style of coding called Object Oriented Programming. If you took the Python Fundamentals three-day workshop with me, we focused on more of a \"procedural\" style of coding - working from the top of the code to the bottom and emphasizing logic and loops. Both styles work well in Python. We could have taken a more procedural approach to create the Fantasy Orchestra league by using dictionaries, loops, and if/then statements.\n",
    "<br><br>There is an episode of the children's show, Bluey, that really reflects the style of Object Oriented Programming. In Season 1, Episode 23 - Shops - a group of kids are playing pretend. One kid just wants to start, but another kid wants to lay out all the rules first: Who will be the shopkeeper? Who will be the customer? What does the shop sell? What will the customer buy? What will be used for money? By the time everything is decided and they finally play, it only takes about ten seconds to play out the scenario! This is classic object oriented programming. \n",
    "<br><br>We didn't have time to get to this today, but Object Classes can be reused in other code, and within your notebook you can create a new object class that inherits the attributes and methods from a Parent class, so you don't need to retype all that code and can specify small changes.\n",
    "<br><br>If you're creating objects and setting their rules and then simulating situations that might result, that is called Agent Based Modeling - we plan to have a workshop on that next year!"
   ]
  },
  {
   "cell_type": "code",
   "execution_count": null,
   "id": "1fa4a5e6-e1b9-46fe-a7bc-070903f652eb",
   "metadata": {},
   "outputs": [],
   "source": []
  }
 ],
 "metadata": {
  "kernelspec": {
   "display_name": "Python 3 (ipykernel)",
   "language": "python",
   "name": "python3"
  },
  "language_info": {
   "codemirror_mode": {
    "name": "ipython",
    "version": 3
   },
   "file_extension": ".py",
   "mimetype": "text/x-python",
   "name": "python",
   "nbconvert_exporter": "python",
   "pygments_lexer": "ipython3",
   "version": "3.9.13"
  }
 },
 "nbformat": 4,
 "nbformat_minor": 5
}
